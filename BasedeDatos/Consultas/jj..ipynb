﻿{
  "metadata": {
    "name": "jj",
    "kernelspec": {
      "language": "scala",
      "name": "spark2-scala"
    },
    "language_info": {
      "codemirror_mode": "text/x-scala",
      "file_extension": ".scala",
      "mimetype": "text/x-scala",
      "name": "scala",
      "pygments_lexer": "scala"
    }
  },
  "nbformat": 4,
  "nbformat_minor": 2,
  "cells": [
    {
      "cell_type": "code",
      "execution_count": 0,
      "metadata": {
        "autoscroll": "auto"
      },
      "outputs": [],
      "source": "%mysql\nSELECT v.anio, v.ventaTotal, P.nombreProvincia\nFROM Ventas v JOIN Provincias P on P.idProvincia \u003d v.idProvincia\nWHERE v.idProvincia \u003d \u002717\u0027 OR v.idProvincia \u003d \u002709\u0027 OR v.idProvincia \u003d \u002701\u0027 OR v.idProvincia \u003d \u002720\u0027 OR v.idProvincia \u003d \u002711\u0027\nORDER BY 2 DESC;"
    },
    {
      "cell_type": "code",
      "execution_count": 1,
      "metadata": {
        "autoscroll": "auto"
      },
      "outputs": [],
      "source": "%mysql\n(SELECT COUNT(*), mes_movi, anio_movi\nFROM Migrantes INNER JOIN Paises P on Migrantes.idPais \u003d P.idPais\nWHERE P.nombrePais !\u003d \u0027Ecuador\u0027 AND tip_movi \u003d \u0027Entrada\u0027 AND anio_movi \u003d 2020 AND mot_viam \u003d \u0027Turismo\u0027\nGROUP BY 3,2\nORDER BY  1 DESC\nLIMIT 3)\nUNION\n(SELECT COUNT(*), mes_movi,anio_movi\nFROM Migrantes INNER JOIN Paises P on Migrantes.idPais \u003d P.idPais\nWHERE P.nombrePais !\u003d \u0027Ecuador\u0027 AND tip_movi \u003d \u0027Entrada\u0027 AND anio_movi \u003d 2021 AND mot_viam \u003d \u0027Turismo\u0027\nGROUP BY 3,2\nORDER BY  1 DESC\nLIMIT 3);"
    },
    {
      "cell_type": "code",
      "execution_count": 2,
      "metadata": {
        "autoscroll": "auto"
      },
      "outputs": [],
      "source": "%sql\nSELECT (ventaTotal*1000000)/COUNT(*), provincia\nFROM COMERCIALESD\nWHERE anio \u003d 2021\nGROUP BY provincia, ventaTotal\nORDER BY 1 DESC\nLIMIT 5;\n"
    },
    {
      "cell_type": "code",
      "execution_count": 3,
      "metadata": {
        "autoscroll": "auto"
      },
      "outputs": [],
      "source": "%mysql\nSELECT m.anio_movi as Anio, P.nombrePais as \u0027Nacionalidad del Turista\u0027 , COUNT(*) as \u0027Flujo\u0027\nFROM Migrantes m INNER JOIN Paises P on m.idPais \u003d P.idPais\nWHERE P.nombrePais !\u003d \u0027Ecuador\u0027 AND tip_movi \u003d \u0027Salida\u0027 AND mot_viam \u003d \u0027Turismo\u0027\nGROUP BY m.anio_movi, P.nombrePais\nORDER BY 3 DESC\nLIMIT 3;"
    },
    {
      "cell_type": "code",
      "execution_count": 4,
      "metadata": {
        "autoscroll": "auto"
      },
      "outputs": [],
      "source": "%mysql\nSELECT COUNT(*), mot_viam\nFROM Migrantes\nGROUP BY mot_viam;"
    },
    {
      "cell_type": "code",
      "execution_count": 5,
      "metadata": {
        "autoscroll": "auto"
      },
      "outputs": [],
      "source": "%mysql\nSELECT COUNT(*), via_tran, anio_movi\nFROM Migrantes\nGROUP BY via_tran, anio_movi;"
    },
    {
      "cell_type": "code",
      "execution_count": 6,
      "metadata": {
        "autoscroll": "auto"
      },
      "outputs": [],
      "source": "%sql\nSELECT ((100 * COUNT(email))/ COUNT(*)) AS EMAIL, \n((100 * COUNT(web))/ COUNT(*)) AS WEB, \n((100 * COUNT(ref))/ COUNT(*)) AS REF,\n((100 * COUNT(telf1))/ COUNT(*)) AS TELEFONO1,  \n((100 * COUNT(telf2))/ COUNT(*)) AS TELEFONO2, provincia\nFROM COMERCIALESO\nGROUP BY provincia \nORDER BY COUNT(*) DESC\nLIMIT 5;"
    },
    {
      "cell_type": "code",
      "execution_count": 7,
      "metadata": {},
      "outputs": [],
      "source": "%%sql\n"
    }
  ]
}